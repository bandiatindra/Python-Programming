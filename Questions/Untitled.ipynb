{
 "cells": [
  {
   "cell_type": "code",
   "execution_count": 3,
   "metadata": {},
   "outputs": [
    {
     "name": "stdout",
     "output_type": "stream",
     "text": [
      "Populating the interactive namespace from numpy and matplotlib\n"
     ]
    }
   ],
   "source": [
    "from pandas import Series, DataFrame\n",
    "import pandas as pd\n",
    "%pylab inline"
   ]
  },
  {
   "cell_type": "code",
   "execution_count": 4,
   "metadata": {},
   "outputs": [],
   "source": [
    "orig_data = pd.read_csv('311_calls_2months.csv',\n",
    "                        nrows=100000,\n",
    "                        dtype=unicode,\n",
    "                        parse_dates=['Created Date'])"
   ]
  },
  {
   "cell_type": "code",
   "execution_count": 5,
   "metadata": {},
   "outputs": [
    {
     "name": "stdout",
     "output_type": "stream",
     "text": [
      "['Unique Key' 'Created Date' 'Closed Date' 'Agency' 'Agency Name'\n",
      " 'Complaint Type' 'Descriptor' 'Location Type' 'Incident Zip'\n",
      " 'Incident Address' 'Street Name' 'Cross Street 1' 'Cross Street 2'\n",
      " 'Intersection Street 1' 'Intersection Street 2' 'Address Type' 'City'\n",
      " 'Landmark' 'Facility Type' 'Status' 'Due Date'\n",
      " 'Resolution Action Updated Date' 'Community Board' 'Borough'\n",
      " 'X Coordinate (State Plane)' 'Y Coordinate (State Plane)'\n",
      " 'Park Facility Name' 'Park Borough' 'School Name' 'School Number'\n",
      " 'School Region' 'School Code' 'School Phone Number' 'School Address'\n",
      " 'School City' 'School State' 'School Zip' 'School Not Found'\n",
      " 'School or Citywide Complaint' 'Vehicle Type' 'Taxi Company Borough'\n",
      " 'Taxi Pick Up Location' 'Bridge Highway Name' 'Bridge Highway Direction'\n",
      " 'Road Ramp' 'Bridge Highway Segment' 'Garage Lot Name' 'Ferry Direction'\n",
      " 'Ferry Terminal Name' 'Latitude' 'Longitude' 'Location']\n"
     ]
    }
   ],
   "source": [
    "print orig_data.columns.values"
   ]
  },
  {
   "cell_type": "code",
   "execution_count": 6,
   "metadata": {
    "collapsed": true
   },
   "outputs": [
    {
     "data": {
      "text/plain": [
       "Unique Key                                      29641524\n",
       "Created Date                         2015-01-06 02:14:39\n",
       "Closed Date                                          NaN\n",
       "Agency                                             CHALL\n",
       "Agency Name                                        CHALL\n",
       "Complaint Type                     Opinion for the Mayor\n",
       "Descriptor                                  PUBLICSAFETY\n",
       "Location Type                                        NaN\n",
       "Incident Zip                                         NaN\n",
       "Incident Address                                     NaN\n",
       "Street Name                                          NaN\n",
       "Cross Street 1                                       NaN\n",
       "Cross Street 2                                       NaN\n",
       "Intersection Street 1                                NaN\n",
       "Intersection Street 2                                NaN\n",
       "Address Type                                         NaN\n",
       "City                                                 NaN\n",
       "Landmark                                             NaN\n",
       "Facility Type                                        NaN\n",
       "Status                                        Email Sent\n",
       "Due Date                          01/20/2015 02:15:41 AM\n",
       "Resolution Action Updated Date                       NaN\n",
       "Community Board                            0 Unspecified\n",
       "Borough                                      Unspecified\n",
       "X Coordinate (State Plane)                           NaN\n",
       "Y Coordinate (State Plane)                           NaN\n",
       "Park Facility Name                           Unspecified\n",
       "Park Borough                                 Unspecified\n",
       "School Name                                  Unspecified\n",
       "School Number                                Unspecified\n",
       "School Region                                Unspecified\n",
       "School Code                                  Unspecified\n",
       "School Phone Number                          Unspecified\n",
       "School Address                               Unspecified\n",
       "School City                                  Unspecified\n",
       "School State                                 Unspecified\n",
       "School Zip                                   Unspecified\n",
       "School Not Found                                     NaN\n",
       "School or Citywide Complaint                         NaN\n",
       "Vehicle Type                                         NaN\n",
       "Taxi Company Borough                                 NaN\n",
       "Taxi Pick Up Location                                NaN\n",
       "Bridge Highway Name                                  NaN\n",
       "Bridge Highway Direction                             NaN\n",
       "Road Ramp                                            NaN\n",
       "Bridge Highway Segment                    1-1-1052163595\n",
       "Garage Lot Name                                      NaN\n",
       "Ferry Direction                                      NaN\n",
       "Ferry Terminal Name                                  NaN\n",
       "Latitude                                             NaN\n",
       "Longitude                                            NaN\n",
       "Location                                             NaN\n",
       "Name: 0, dtype: object"
      ]
     },
     "execution_count": 6,
     "metadata": {},
     "output_type": "execute_result"
    }
   ],
   "source": [
    "# Gives the first element of the data frame as a series.\n",
    "orig_data.iloc[0]\n",
    "\n",
    "# Unspecified does not mean NaN"
   ]
  },
  {
   "cell_type": "code",
   "execution_count": 7,
   "metadata": {
    "collapsed": true
   },
   "outputs": [
    {
     "data": {
      "text/plain": [
       "0          Opinion for the Mayor\n",
       "1             Noise - Commercial\n",
       "2                   Animal Abuse\n",
       "3          Street Sign - Missing\n",
       "4        Noise - Street/Sidewalk\n",
       "5                Illegal Parking\n",
       "6          Opinion for the Mayor\n",
       "7          Street Sign - Missing\n",
       "8             Consumer Complaint\n",
       "9          Opinion for the Mayor\n",
       "10              Blocked Driveway\n",
       "11         Street Sign - Missing\n",
       "12              Blocked Driveway\n",
       "13            Food Establishment\n",
       "14              Street Condition\n",
       "15              Street Condition\n",
       "16         Street Sign - Missing\n",
       "17         Street Sign - Missing\n",
       "18            Consumer Complaint\n",
       "19         Street Sign - Missing\n",
       "20            Noise - Commercial\n",
       "21                      Graffiti\n",
       "22         Opinion for the Mayor\n",
       "23                        Rodent\n",
       "24            Noise - Helicopter\n",
       "25                  Animal Abuse\n",
       "26         Opinion for the Mayor\n",
       "27            Noise - Commercial\n",
       "28                  Animal Abuse\n",
       "29              Street Condition\n",
       "                  ...           \n",
       "99970             HEAT/HOT WATER\n",
       "99971             HEAT/HOT WATER\n",
       "99972             HEAT/HOT WATER\n",
       "99973             HEAT/HOT WATER\n",
       "99974             HEAT/HOT WATER\n",
       "99975             HEAT/HOT WATER\n",
       "99976             HEAT/HOT WATER\n",
       "99977                 WATER LEAK\n",
       "99978                DOOR/WINDOW\n",
       "99979                   ELECTRIC\n",
       "99980             HEAT/HOT WATER\n",
       "99981             HEAT/HOT WATER\n",
       "99982             HEAT/HOT WATER\n",
       "99983                   PLUMBING\n",
       "99984                   PLUMBING\n",
       "99985             HEAT/HOT WATER\n",
       "99986             HEAT/HOT WATER\n",
       "99987             HEAT/HOT WATER\n",
       "99988             HEAT/HOT WATER\n",
       "99989             HEAT/HOT WATER\n",
       "99990                   PLUMBING\n",
       "99991              PAINT/PLASTER\n",
       "99992                    GENERAL\n",
       "99993             HEAT/HOT WATER\n",
       "99994             HEAT/HOT WATER\n",
       "99995             HEAT/HOT WATER\n",
       "99996             HEAT/HOT WATER\n",
       "99997             HEAT/HOT WATER\n",
       "99998             HEAT/HOT WATER\n",
       "99999              PAINT/PLASTER\n",
       "Name: Complaint Type, Length: 100000, dtype: object"
      ]
     },
     "execution_count": 7,
     "metadata": {},
     "output_type": "execute_result"
    }
   ],
   "source": [
    "# Coimplaint type:\n",
    "orig_data['Complaint Type']"
   ]
  },
  {
   "cell_type": "code",
   "execution_count": 14,
   "metadata": {
    "collapsed": true
   },
   "outputs": [
    {
     "data": {
      "text/plain": [
       "HEAT/HOT WATER                          20286\n",
       "Blocked Driveway                         5760\n",
       "Street Light Condition                   5288\n",
       "Street Condition                         4495\n",
       "Illegal Parking                          4045\n",
       "UNSANITARY CONDITION                     3855\n",
       "PAINT/PLASTER                            3384\n",
       "PLUMBING                                 2846\n",
       "Noise - Commercial                       2542\n",
       "Opinion for the Mayor                    2373\n",
       "Water System                             2316\n",
       "Noise                                    2184\n",
       "Traffic Signal Condition                 2067\n",
       "DOOR/WINDOW                              2019\n",
       "WATER LEAK                               2014\n",
       "Sewer                                    1769\n",
       "Dirty Conditions                         1537\n",
       "Broken Muni Meter                        1471\n",
       "ELECTRIC                                 1439\n",
       "Sanitation Condition                     1276\n",
       "DOF Literature Request                   1222\n",
       "FLOORING/STAIRS                          1209\n",
       "Missed Collection (All Materials)        1198\n",
       "Building/Use                             1190\n",
       "Rodent                                   1122\n",
       "Benefit Card Replacement                 1117\n",
       "General Construction/Plumbing            1096\n",
       "GENERAL                                  1082\n",
       "Noise - Street/Sidewalk                  1050\n",
       "Graffiti                                  961\n",
       "                                        ...  \n",
       "Stalled Sites                               3\n",
       "Adopt-A-Basket                              3\n",
       "Special Natural Area District (SNAD)        3\n",
       "Beach/Pool/Sauna Complaint                  3\n",
       "Emergency Response Team (ERT)               3\n",
       "Open Flame Permit                           2\n",
       "Ferry Complaint                             2\n",
       "SG-98                                       2\n",
       "Fire Alarm - Addition                       2\n",
       "Sprinkler - Mechanical                      2\n",
       "Overflowing Recycling Baskets               2\n",
       "Literature Request                          2\n",
       "Unsanitary Animal Facility                  2\n",
       "Illegal Animal Sold                         2\n",
       "Internal Code                               2\n",
       "X-Ray Machine/Equipment                     2\n",
       "Legal Services Provider Complaint           1\n",
       "Highway Sign - Missing                      1\n",
       "Public Assembly                             1\n",
       "Lifeguard                                   1\n",
       "Standpipe - Mechanical                      1\n",
       "Window Guard                                1\n",
       "Transportation Provider Complaint           1\n",
       "Illegal Fireworks                           1\n",
       "DHS Income Savings Requirement              1\n",
       "Rangehood                                   1\n",
       "Ferry Permit                                1\n",
       "Squeegee                                    1\n",
       "Tanning                                     1\n",
       "Invitation                                  1\n",
       "Name: Complaint Type, Length: 177, dtype: int64"
      ]
     },
     "execution_count": 14,
     "metadata": {},
     "output_type": "execute_result"
    }
   ],
   "source": [
    "# Counts the frequencies of the values - Very helpful and important!!! - Remember\n",
    "\n",
    "orig_data['Complaint Type'].value_counts()"
   ]
  },
  {
   "cell_type": "code",
   "execution_count": 8,
   "metadata": {
    "collapsed": true
   },
   "outputs": [
    {
     "data": {
      "text/plain": [
       "HEAT/HOT WATER            20286\n",
       "Blocked Driveway           5760\n",
       "Street Light Condition     5288\n",
       "Street Condition           4495\n",
       "Illegal Parking            4045\n",
       "UNSANITARY CONDITION       3855\n",
       "PAINT/PLASTER              3384\n",
       "PLUMBING                   2846\n",
       "Noise - Commercial         2542\n",
       "Opinion for the Mayor      2373\n",
       "Name: Complaint Type, dtype: int64"
      ]
     },
     "execution_count": 8,
     "metadata": {},
     "output_type": "execute_result"
    }
   ],
   "source": [
    "# Look at top 10 ffrequent results\n",
    "orig_data['Complaint Type'].value_counts()[:10]"
   ]
  },
  {
   "cell_type": "code",
   "execution_count": 16,
   "metadata": {
    "collapsed": true
   },
   "outputs": [
    {
     "data": {
      "text/plain": [
       "Standpipe - Mechanical               1\n",
       "Window Guard                         1\n",
       "Transportation Provider Complaint    1\n",
       "Illegal Fireworks                    1\n",
       "DHS Income Savings Requirement       1\n",
       "Rangehood                            1\n",
       "Ferry Permit                         1\n",
       "Squeegee                             1\n",
       "Tanning                              1\n",
       "Invitation                           1\n",
       "Name: Complaint Type, dtype: int64"
      ]
     },
     "execution_count": 16,
     "metadata": {},
     "output_type": "execute_result"
    }
   ],
   "source": [
    "# Most infrequrnt complaints\n",
    "orig_data['Complaint Type'].value_counts()[-10:]"
   ]
  },
  {
   "cell_type": "code",
   "execution_count": 9,
   "metadata": {
    "collapsed": true
   },
   "outputs": [
    {
     "data": {
      "text/plain": [
       "<matplotlib.axes._subplots.AxesSubplot at 0x1634b970>"
      ]
     },
     "execution_count": 9,
     "metadata": {},
     "output_type": "execute_result"
    },
    {
     "data": {
      "image/png": "[encoded data removed]",
      "text/plain": [
       "<Figure size 432x288 with 1 Axes>"
      ]
     },
     "metadata": {},
     "output_type": "display_data"
    }
   ],
   "source": [
    "# Easier to plot the numbers and visualization:\n",
    "vc = orig_data['Complaint Type'].value_counts()\n",
    "top_20 = orig_data['Complaint Type'].value_counts()[:20]\n",
    "top_20.plot(kind='bar')"
   ]
  },
  {
   "cell_type": "code",
   "execution_count": 22,
   "metadata": {
    "collapsed": true
   },
   "outputs": [
    {
     "data": {
      "text/plain": [
       "<matplotlib.axes._subplots.AxesSubplot at 0x17bbbcb0>"
      ]
     },
     "execution_count": 22,
     "metadata": {},
     "output_type": "execute_result"
    },
    {
     "data": {
      "image/png": "[encoded data removed]",
      "text/plain": [
       "<Figure size 432x288 with 1 Axes>"
      ]
     },
     "metadata": {},
     "output_type": "display_data"
    }
   ],
   "source": [
    "# For y axis to show the percentage of complaints - \n",
    "s = vc*100/vc.sum()\n",
    "s[:20].plot(kind= 'bar')"
   ]
  },
  {
   "cell_type": "code",
   "execution_count": 11,
   "metadata": {},
   "outputs": [],
   "source": [
    "w, h = 3, 3;\n",
    "Matrix = [[0 for x in range(w)] for y in range(h)] "
   ]
  },
  {
   "cell_type": "code",
   "execution_count": 24,
   "metadata": {
    "collapsed": true
   },
   "outputs": [
    {
     "data": {
      "text/plain": [
       "[[0, 0, 0], [0, 0, 0], [0, 0, 0]]"
      ]
     },
     "execution_count": 24,
     "metadata": {},
     "output_type": "execute_result"
    }
   ],
   "source": [
    "Matrix"
   ]
  },
  {
   "cell_type": "code",
   "execution_count": 12,
   "metadata": {
    "collapsed": true
   },
   "outputs": [
    {
     "data": {
      "text/plain": [
       "[(1, 2, 3), (1, 3, 2), (2, 1, 3), (2, 3, 1), (3, 1, 2), (3, 2, 1)]"
      ]
     },
     "execution_count": 12,
     "metadata": {},
     "output_type": "execute_result"
    }
   ],
   "source": [
    "import itertools\n",
    "list(itertools.permutations([1, 2, 3]))"
   ]
  },
  {
   "cell_type": "code",
   "execution_count": 13,
   "metadata": {
    "collapsed": true
   },
   "outputs": [
    {
     "data": {
      "text/plain": [
       "0      NaN\n",
       "1    11372\n",
       "2    11416\n",
       "3    11233\n",
       "4    10022\n",
       "Name: Incident Zip, dtype: object"
      ]
     },
     "execution_count": 13,
     "metadata": {},
     "output_type": "execute_result"
    }
   ],
   "source": [
    "orig_data['Incident Zip'][:5]"
   ]
  },
  {
   "cell_type": "markdown",
   "metadata": {},
   "source": [
    "#Find the Borough for each zip code"
   ]
  },
  {
   "cell_type": "code",
   "execution_count": 42,
   "metadata": {
    "collapsed": true
   },
   "outputs": [
    {
     "data": {
      "text/html": [
       "<div>\n",
       "<style scoped>\n",
       "    .dataframe tbody tr th:only-of-type {\n",
       "        vertical-align: middle;\n",
       "    }\n",
       "\n",
       "    .dataframe tbody tr th {\n",
       "        vertical-align: top;\n",
       "    }\n",
       "\n",
       "    .dataframe thead th {\n",
       "        text-align: right;\n",
       "    }\n",
       "</style>\n",
       "<table border=\"1\" class=\"dataframe\">\n",
       "  <thead>\n",
       "    <tr style=\"text-align: right;\">\n",
       "      <th></th>\n",
       "      <th>Borough</th>\n",
       "      <th>Incident Zip</th>\n",
       "    </tr>\n",
       "  </thead>\n",
       "  <tbody>\n",
       "    <tr>\n",
       "      <th>1</th>\n",
       "      <td>QUEENS</td>\n",
       "      <td>11372</td>\n",
       "    </tr>\n",
       "    <tr>\n",
       "      <th>2</th>\n",
       "      <td>QUEENS</td>\n",
       "      <td>11416</td>\n",
       "    </tr>\n",
       "    <tr>\n",
       "      <th>3</th>\n",
       "      <td>BROOKLYN</td>\n",
       "      <td>11233</td>\n",
       "    </tr>\n",
       "    <tr>\n",
       "      <th>4</th>\n",
       "      <td>MANHATTAN</td>\n",
       "      <td>10022</td>\n",
       "    </tr>\n",
       "    <tr>\n",
       "      <th>5</th>\n",
       "      <td>QUEENS</td>\n",
       "      <td>11368</td>\n",
       "    </tr>\n",
       "  </tbody>\n",
       "</table>\n",
       "</div>"
      ],
      "text/plain": [
       "     Borough Incident Zip\n",
       "1     QUEENS        11372\n",
       "2     QUEENS        11416\n",
       "3   BROOKLYN        11233\n",
       "4  MANHATTAN        10022\n",
       "5     QUEENS        11368"
      ]
     },
     "execution_count": 42,
     "metadata": {},
     "output_type": "execute_result"
    }
   ],
   "source": [
    "# Many diff zip codes to one borough: \n",
    "\n",
    "#Its possible that different zip codes are mapped to mltipl boroughs\n",
    "# Each zip code should show up uniquely in the series (As if it was a dictionary). \n",
    "\n",
    "mask = (orig_data['Borough'] == 'Unspecified')\n",
    "orig_data.loc[mask, 'Borough'] = np.nan # This sets the value to NaN\n",
    "\n",
    "borough_zip = orig_data[['Borough', 'Incident Zip']]\n",
    "\n",
    "mask_borough = borough_zip['Borough'].notnull()\n",
    "#print mask_borough\n",
    "mask_zip = borough_zip['Incident Zip'].notnull() \n",
    "\n",
    "mask = (mask_borough & mask_zip) # Both series, combine through & and take only where both are true\n",
    "borough_zip_clean = borough_zip[mask]\n",
    "borough_zip_clean[:5]\n",
    "\n"
   ]
  },
  {
   "cell_type": "code",
   "execution_count": 44,
   "metadata": {
    "collapsed": true
   },
   "outputs": [
    {
     "data": {
      "text/html": [
       "<div>\n",
       "<style scoped>\n",
       "    .dataframe tbody tr th:only-of-type {\n",
       "        vertical-align: middle;\n",
       "    }\n",
       "\n",
       "    .dataframe tbody tr th {\n",
       "        vertical-align: top;\n",
       "    }\n",
       "\n",
       "    .dataframe thead th {\n",
       "        text-align: right;\n",
       "    }\n",
       "</style>\n",
       "<table border=\"1\" class=\"dataframe\">\n",
       "  <thead>\n",
       "    <tr style=\"text-align: right;\">\n",
       "      <th></th>\n",
       "      <th>Borough</th>\n",
       "      <th>Incident Zip</th>\n",
       "    </tr>\n",
       "  </thead>\n",
       "  <tbody>\n",
       "    <tr>\n",
       "      <th>1</th>\n",
       "      <td>QUEENS</td>\n",
       "      <td>11372</td>\n",
       "    </tr>\n",
       "    <tr>\n",
       "      <th>2</th>\n",
       "      <td>QUEENS</td>\n",
       "      <td>11416</td>\n",
       "    </tr>\n",
       "    <tr>\n",
       "      <th>3</th>\n",
       "      <td>BROOKLYN</td>\n",
       "      <td>11233</td>\n",
       "    </tr>\n",
       "    <tr>\n",
       "      <th>4</th>\n",
       "      <td>MANHATTAN</td>\n",
       "      <td>10022</td>\n",
       "    </tr>\n",
       "    <tr>\n",
       "      <th>5</th>\n",
       "      <td>QUEENS</td>\n",
       "      <td>11368</td>\n",
       "    </tr>\n",
       "  </tbody>\n",
       "</table>\n",
       "</div>"
      ],
      "text/plain": [
       "     Borough Incident Zip\n",
       "1     QUEENS        11372\n",
       "2     QUEENS        11416\n",
       "3   BROOKLYN        11233\n",
       "4  MANHATTAN        10022\n",
       "5     QUEENS        11368"
      ]
     },
     "execution_count": 44,
     "metadata": {},
     "output_type": "execute_result"
    }
   ],
   "source": [
    "# Another option is dropna and say how = 'any'. It will drop all the rows where it finds any! \n",
    "\n",
    "borough_zip_clean = borough_zip.dropna(how='any')\n",
    "borough_zip_clean[:5]\n"
   ]
  },
  {
   "cell_type": "code",
   "execution_count": 52,
   "metadata": {
    "collapsed": true
   },
   "outputs": [
    {
     "data": {
      "text/plain": [
       "196"
      ]
     },
     "execution_count": 52,
     "metadata": {},
     "output_type": "execute_result"
    }
   ],
   "source": [
    "# Now we have duplicate entries. So we will use - dropduplicates. \n",
    "\n",
    "borough_zip_clean.drop_duplicates() # If any row exactly identical then it will drop (i.e. matching all the fields)\n",
    "\n",
    "borough_zip_dedeup = borough_zip_clean.drop_duplicates(subset=\"Incident Zip\") # This will drop duplicates even if there are duplicates in the zip code column\n",
    "#len(borough_zip_dedeup)\n"
   ]
  },
  {
   "cell_type": "code",
   "execution_count": 63,
   "metadata": {},
   "outputs": [],
   "source": [
    "tmp_df = borough_zip_dedeup.set_index('Incident Zip') # Setting zip code to index! \n",
    "borough_zip_sereis = tmp_df['Borough'] # To get the seies just call the column. "
   ]
  },
  {
   "cell_type": "code",
   "execution_count": 77,
   "metadata": {},
   "outputs": [],
   "source": [
    "zip_crime_counts =  orig_data['Incident Zip'].value_counts()\n",
    "# Returns the number of incidents by zip codes.\n",
    "# Plot # of complaints by zip code, but map zip codes to borough!"
   ]
  },
  {
   "cell_type": "code",
   "execution_count": 78,
   "metadata": {},
   "outputs": [
    {
     "data": {
      "text/plain": [
       "BROOKLYN      1758\n",
       "BRONX         1632\n",
       "BRONX         1554\n",
       "BRONX         1373\n",
       "BRONX         1372\n",
       "MANHATTAN     1309\n",
       "BRONX         1251\n",
       "BRONX         1245\n",
       "BROOKLYN      1196\n",
       "BRONX         1114\n",
       "BROOKLYN      1088\n",
       "BROOKLYN      1066\n",
       "BROOKLYN      1051\n",
       "BRONX         1035\n",
       "BROOKLYN      1027\n",
       "MANHATTAN     1021\n",
       "BROOKLYN       983\n",
       "BROOKLYN       979\n",
       "MANHATTAN      960\n",
       "BROOKLYN       955\n",
       "BRONX          939\n",
       "QUEENS         937\n",
       "BROOKLYN       934\n",
       "BROOKLYN       927\n",
       "BROOKLYN       905\n",
       "MANHATTAN      892\n",
       "BROOKLYN       861\n",
       "BROOKLYN       850\n",
       "MANHATTAN      845\n",
       "QUEENS         834\n",
       "              ... \n",
       "11771            1\n",
       "80155            1\n",
       "35210-6928       1\n",
       "20188            1\n",
       "11552            1\n",
       "000000           1\n",
       "20123            1\n",
       "55426-1066       1\n",
       "MANHATTAN        1\n",
       "MANHATTAN        1\n",
       "07093            1\n",
       "08854            1\n",
       "11371            1\n",
       "32824            1\n",
       "11590            1\n",
       "11024            1\n",
       "11581            1\n",
       "MANHATTAN        1\n",
       "44139            1\n",
       "11030            1\n",
       "37214            1\n",
       "07041            1\n",
       "11000            1\n",
       "QUEENS           1\n",
       "NJ 07114         1\n",
       "91356            1\n",
       "07030            1\n",
       "MANHATTAN        1\n",
       "07020            1\n",
       "10705            1\n",
       "Name: Incident Zip, Length: 234, dtype: int64"
      ]
     },
     "execution_count": 78,
     "metadata": {},
     "output_type": "execute_result"
    }
   ],
   "source": [
    "# Replace - by a rename function! \n",
    "\n",
    "rename_compaints = zip_crime_counts.rename(borough_zip_sereis)\n"
   ]
  },
  {
   "cell_type": "code",
   "execution_count": 79,
   "metadata": {},
   "outputs": [],
   "source": [
    "borough_counts = borough_zip_clean['Borough'].value_counts()"
   ]
  },
  {
   "cell_type": "code",
   "execution_count": 98,
   "metadata": {},
   "outputs": [
    {
     "data": {
      "text/plain": [
       "<matplotlib.axes._subplots.AxesSubplot at 0x23950130>"
      ]
     },
     "execution_count": 98,
     "metadata": {},
     "output_type": "execute_result"
    },
    {
     "data": {
      "image/png": "[encoded data removed]",
      "text/plain": [
       "<Figure size 432x288 with 1 Axes>"
      ]
     },
     "metadata": {},
     "output_type": "display_data"
    }
   ],
   "source": [
    "# No of complaints by size of borough - \n",
    "borough_counts = borough_zip_clean['Borough'].value_counts()\n",
    "zip_per_borough = orig_data[['Borough', 'Incident Zip']].dropna(how='any') \\\n",
    "                                                        .drop_duplicates() \\\n",
    "                                                        ['Borough'] \\\n",
    "                                                        .value_counts()\n",
    "\n",
    "borough_counts_per_zip = borough_counts / zip_per_borough\n",
    "borough_counts_per_zip.plot(kind='bar')"
   ]
  },
  {
   "cell_type": "code",
   "execution_count": 112,
   "metadata": {},
   "outputs": [
    {
     "data": {
      "text/plain": [
       "<matplotlib.axes._subplots.AxesSubplot at 0x239ad730>"
      ]
     },
     "execution_count": 112,
     "metadata": {},
     "output_type": "execute_result"
    },
    {
     "data": {
      "image/png": "[encoded data removed]",
      "text/plain": [
       "<Figure size 432x288 with 1 Axes>"
      ]
     },
     "metadata": {},
     "output_type": "display_data"
    }
   ],
   "source": [
    "\n",
    "\n",
    "def is_noise(s):\n",
    "    return ('Noise' in s)\n",
    "# map is used for masking in series. \n",
    "mask = orig_data['Complaint Type'].map(is_noise)  # Get all types of complaints\n",
    "\n",
    "noise_complaints = orig_data[mask]\n",
    "\n",
    "# plot noisy street\n",
    "\n",
    "noise_vc = noise_complaints['Street Name'].value_counts()\n",
    "noise_vc[:20].plot(kind='bar')\n"
   ]
  },
  {
   "cell_type": "code",
   "execution_count": 117,
   "metadata": {},
   "outputs": [],
   "source": [
    "# How many different boroughs show up. \n",
    "\n",
    "# n unique - The no of uniue items \n",
    "\n",
    "borough_avenue_cmpts = noise_complaints[noise_complaints['Street Name'] == '3 AVENUE']['Borough'].value_counts()"
   ]
  },
  {
   "cell_type": "code",
   "execution_count": 126,
   "metadata": {
    "collapsed": true
   },
   "outputs": [
    {
     "data": {
      "text/plain": [
       "1          ROOSEVELT AVENUE(QUEENS)\n",
       "4         EAST 58 STREET(MANHATTAN)\n",
       "20         ROOSEVELT AVENUE(QUEENS)\n",
       "24         THAYER STREET(MANHATTAN)\n",
       "27        WEST 16 STREET(MANHATTAN)\n",
       "34        SHERMAN AVENUE(MANHATTAN)\n",
       "37        WEST 16 STREET(MANHATTAN)\n",
       "50        FLUSHING AVENUE(BROOKLYN)\n",
       "51                              NaN\n",
       "54        MERRICK BOULEVARD(QUEENS)\n",
       "57         HUDSON STREET(MANHATTAN)\n",
       "58         BEDFORD AVENUE(BROOKLYN)\n",
       "60         BEDFORD AVENUE(BROOKLYN)\n",
       "66        EAST 14 STREET(MANHATTAN)\n",
       "67         HUDSON STREET(MANHATTAN)\n",
       "68                              NaN\n",
       "72         ROOSEVELT AVENUE(QUEENS)\n",
       "74          MAUJER STREET(BROOKLYN)\n",
       "77        WEST 35 STREET(MANHATTAN)\n",
       "79        MCDONALD AVENUE(BROOKLYN)\n",
       "138                             NaN\n",
       "140       WEST 17 STREET(MANHATTAN)\n",
       "145       ATLANTIC AVENUE(BROOKLYN)\n",
       "154          MACON STREET(BROOKLYN)\n",
       "155         LENOX AVENUE(MANHATTAN)\n",
       "159                             NaN\n",
       "161                             NaN\n",
       "162          RUTLAND ROAD(BROOKLYN)\n",
       "165             9 AVENUE(MANHATTAN)\n",
       "169                             NaN\n",
       "                    ...            \n",
       "98916           AVENUE B(MANHATTAN)\n",
       "98917                           NaN\n",
       "98919           BROADWAY(MANHATTAN)\n",
       "98925     KINGSTON AVENUE(BROOKLYN)\n",
       "98928                           NaN\n",
       "98930    WEST 196 STREET(MANHATTAN)\n",
       "98932     MESEROLE STREET(BROOKLYN)\n",
       "98934           AVENUE C(MANHATTAN)\n",
       "98937      BUSHWICK PLACE(BROOKLYN)\n",
       "98938       HALSEY STREET(BROOKLYN)\n",
       "98939     FLATBUSH AVENUE(BROOKLYN)\n",
       "98941     NEW LOTS AVENUE(BROOKLYN)\n",
       "98942    WEST 167 STREET(MANHATTAN)\n",
       "98943                           NaN\n",
       "98944        ESSEX STREET(BROOKLYN)\n",
       "98954     FLATBUSH AVENUE(BROOKLYN)\n",
       "98955             32 STREET(QUEENS)\n",
       "98956                           NaN\n",
       "98957      BEDFORD AVENUE(BROOKLYN)\n",
       "98958      PROSPECT PLACE(BROOKLYN)\n",
       "98959                           NaN\n",
       "98962            5 AVENUE(BROOKLYN)\n",
       "98965        SHERIDAN AVENUE(BRONX)\n",
       "98966         SENECA AVENUE(QUEENS)\n",
       "98970                           NaN\n",
       "98971                           NaN\n",
       "98972            3 AVENUE(BROOKLYN)\n",
       "98978                           NaN\n",
       "98979     KINGSTON AVENUE(BROOKLYN)\n",
       "98980      HUDSON STREET(MANHATTAN)\n",
       "Length: 6507, dtype: object"
      ]
     },
     "execution_count": 126,
     "metadata": {},
     "output_type": "execute_result"
    }
   ],
   "source": [
    "# 2 series - combines together - Just a series addition same index) => \"+\" will do concatenation. \n",
    "avenue = noise_complaints['Street Name']\n",
    "borough = noise_complaints['Borough']\n",
    "\n",
    "avenue + '(' + borough + ')'"
   ]
  },
  {
   "cell_type": "code",
   "execution_count": null,
   "metadata": {},
   "outputs": [],
   "source": []
  }
 ],
 "metadata": {
  "kernelspec": {
   "display_name": "Python 2",
   "language": "python",
   "name": "python2"
  },
  "language_info": {
   "codemirror_mode": {
    "name": "ipython",
    "version": 2
   },
   "file_extension": ".py",
   "mimetype": "text/x-python",
   "name": "python",
   "nbconvert_exporter": "python",
   "pygments_lexer": "ipython2",
   "version": "2.7.13"
  }
 },
 "nbformat": 4,
 "nbformat_minor": 2
}
